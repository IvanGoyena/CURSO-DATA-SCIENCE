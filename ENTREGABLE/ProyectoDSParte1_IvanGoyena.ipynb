{
  "nbformat": 4,
  "nbformat_minor": 0,
  "metadata": {
    "colab": {
      "provenance": [],
      "toc_visible": true,
      "authorship_tag": "ABX9TyMvzdqdcxLeCc8gLkvu2+lE",
      "include_colab_link": true
    },
    "kernelspec": {
      "name": "python3",
      "display_name": "Python 3"
    },
    "language_info": {
      "name": "python"
    }
  },
  "cells": [
    {
      "cell_type": "markdown",
      "metadata": {
        "id": "view-in-github",
        "colab_type": "text"
      },
      "source": [
        "<a href=\"https://colab.research.google.com/github/IvanGoyena/CURSO-DATA-SCIENCE/blob/main/ENTREGABLE/ProyectoDSParte1_IvanGoyena.ipynb\" target=\"_parent\"><img src=\"https://colab.research.google.com/assets/colab-badge.svg\" alt=\"Open In Colab\"/></a>"
      ]
    },
    {
      "cell_type": "markdown",
      "source": [
        "## Proyecto Final - Visualizaciones en Python - Ivan Goyena"
      ],
      "metadata": {
        "id": "JSbOHn9IkzkH"
      }
    },
    {
      "cell_type": "markdown",
      "source": [
        "# **Abstract ⚛**\n",
        "\n",
        "El presente trabajo tiene como objetivo realizar un análisis exploratorio y visual del dataset \"taco_sales_(2024-2025).csv\", el cual contiene información detallada sobre ventas de tacos a lo largo de los años 2024 y 2025. El dataset incluye variables relacionadas con fechas, tipos de productos, precios, cantidades vendidas, y otros atributos asociados a la operación comercial de una taquería.\n",
        "\n",
        "La motivación detrás de este análisis surge de la necesidad de comprender patrones de consumo, identificar productos estrella, evaluar comportamientos estacionales, y detectar posibles oportunidades de mejora en la estrategia de ventas.\n",
        "\n",
        "A través de visualizaciones y análisis estadísticos, se busca responder a preguntas clave sobre las ventas, como la relación entre el tipo de taco y las ventas, así como las variaciones en las ventas a lo largo del tiempo.\n",
        "\n",
        "Se espera proporcionar insights que no solo sean informativos, sino también prácticos para la toma de decisiones."
      ],
      "metadata": {
        "id": "_DbLg8qDlPGi"
      }
    },
    {
      "cell_type": "markdown",
      "source": [
        "# **Preguntas e Hipotesis** ❓\n",
        "\n",
        "\n",
        "¿Qué tipo de taco se vende más y qué factores influyen en su éxito?\n",
        "\n",
        "¿Existen variaciones entre la semana y el fin de semana en la cantidad de ventas?\n",
        "\n",
        "¿El precio influye significativamente en la cantidad vendida de cada producto?\n",
        "\n",
        "¿Cuáles son los días de mayor volumen de ventas?\n",
        "\n",
        "¿Qué combinación de variables explica mejor los ingresos generados?\n",
        "\n",
        "¿Que estado es el que contiene mayor cantidad de ventas?"
      ],
      "metadata": {
        "id": "xZuIjL9KoB0b"
      }
    },
    {
      "cell_type": "markdown",
      "source": [
        "# Objetivo del proyecto\n",
        "\n"
      ],
      "metadata": {
        "id": "ugERTFLN7ehf"
      }
    },
    {
      "cell_type": "markdown",
      "source": [
        "# **URL** del CSV"
      ],
      "metadata": {
        "id": "hmVMJtRe71kf"
      }
    },
    {
      "cell_type": "code",
      "execution_count": 36,
      "metadata": {
        "id": "QCaNqUgnh26F"
      },
      "outputs": [],
      "source": [
        "URL = 'https://raw.githubusercontent.com/IvanGoyena/ARCHIVOS-CSV/refs/heads/main/taco_sales_(2024-2025).csv'"
      ]
    },
    {
      "cell_type": "markdown",
      "source": [
        "# Importacion de liberarias y archivo CSV"
      ],
      "metadata": {
        "id": "x_Q0KdZy8BRa"
      }
    },
    {
      "cell_type": "code",
      "source": [
        "import pandas as pd\n",
        "import numpy as np\n",
        "import matplotlib.pyplot as plt\n",
        "import seaborn as sns\n",
        "df = pd.read_csv(URL)\n",
        "df.head()"
      ],
      "metadata": {
        "colab": {
          "base_uri": "https://localhost:8080/",
          "height": 0
        },
        "id": "YzEnS72i7yRl",
        "outputId": "67259a17-a177-4477-df94-12ee932b673f"
      },
      "execution_count": 37,
      "outputs": [
        {
          "output_type": "execute_result",
          "data": {
            "text/plain": [
              "   Order ID   Restaurant Name     Location        Order Time  \\\n",
              "0    770487      El Taco Loco     New York  01-08-2024 14:55   \n",
              "1    671858      El Taco Loco  San Antonio  23-11-2024 17:11   \n",
              "2    688508        Taco Haven       Austin  21-11-2024 20:24   \n",
              "3    944962  Spicy Taco House       Dallas  21-09-2024 06:43   \n",
              "4    476417     Casa del Taco  San Antonio  24-07-2024 11:01   \n",
              "\n",
              "      Delivery Time  Delivery Duration (min) Taco Size     Taco Type  \\\n",
              "0  01-08-2024 15:36                       41   Regular  Chicken Taco   \n",
              "1  23-11-2024 17:25                       14   Regular     Beef Taco   \n",
              "2  21-11-2024 21:02                       38     Large     Pork Taco   \n",
              "3  21-09-2024 07:28                       45   Regular  Chicken Taco   \n",
              "4  24-07-2024 11:16                       15     Large     Pork Taco   \n",
              "\n",
              "   Toppings Count  Distance (km)  Price ($)  Tip ($)  Weekend Order  \n",
              "0               5           3.01       9.25     2.22          False  \n",
              "1               1           6.20       4.25     3.01           True  \n",
              "2               2          20.33       7.00     0.02          False  \n",
              "3               2           3.00       5.50     1.90           True  \n",
              "4               0          24.34       4.50     1.14          False  "
            ],
            "text/html": [
              "\n",
              "  <div id=\"df-62ad5b81-583a-4caf-a82c-3a82cb538377\" class=\"colab-df-container\">\n",
              "    <div>\n",
              "<style scoped>\n",
              "    .dataframe tbody tr th:only-of-type {\n",
              "        vertical-align: middle;\n",
              "    }\n",
              "\n",
              "    .dataframe tbody tr th {\n",
              "        vertical-align: top;\n",
              "    }\n",
              "\n",
              "    .dataframe thead th {\n",
              "        text-align: right;\n",
              "    }\n",
              "</style>\n",
              "<table border=\"1\" class=\"dataframe\">\n",
              "  <thead>\n",
              "    <tr style=\"text-align: right;\">\n",
              "      <th></th>\n",
              "      <th>Order ID</th>\n",
              "      <th>Restaurant Name</th>\n",
              "      <th>Location</th>\n",
              "      <th>Order Time</th>\n",
              "      <th>Delivery Time</th>\n",
              "      <th>Delivery Duration (min)</th>\n",
              "      <th>Taco Size</th>\n",
              "      <th>Taco Type</th>\n",
              "      <th>Toppings Count</th>\n",
              "      <th>Distance (km)</th>\n",
              "      <th>Price ($)</th>\n",
              "      <th>Tip ($)</th>\n",
              "      <th>Weekend Order</th>\n",
              "    </tr>\n",
              "  </thead>\n",
              "  <tbody>\n",
              "    <tr>\n",
              "      <th>0</th>\n",
              "      <td>770487</td>\n",
              "      <td>El Taco Loco</td>\n",
              "      <td>New York</td>\n",
              "      <td>01-08-2024 14:55</td>\n",
              "      <td>01-08-2024 15:36</td>\n",
              "      <td>41</td>\n",
              "      <td>Regular</td>\n",
              "      <td>Chicken Taco</td>\n",
              "      <td>5</td>\n",
              "      <td>3.01</td>\n",
              "      <td>9.25</td>\n",
              "      <td>2.22</td>\n",
              "      <td>False</td>\n",
              "    </tr>\n",
              "    <tr>\n",
              "      <th>1</th>\n",
              "      <td>671858</td>\n",
              "      <td>El Taco Loco</td>\n",
              "      <td>San Antonio</td>\n",
              "      <td>23-11-2024 17:11</td>\n",
              "      <td>23-11-2024 17:25</td>\n",
              "      <td>14</td>\n",
              "      <td>Regular</td>\n",
              "      <td>Beef Taco</td>\n",
              "      <td>1</td>\n",
              "      <td>6.20</td>\n",
              "      <td>4.25</td>\n",
              "      <td>3.01</td>\n",
              "      <td>True</td>\n",
              "    </tr>\n",
              "    <tr>\n",
              "      <th>2</th>\n",
              "      <td>688508</td>\n",
              "      <td>Taco Haven</td>\n",
              "      <td>Austin</td>\n",
              "      <td>21-11-2024 20:24</td>\n",
              "      <td>21-11-2024 21:02</td>\n",
              "      <td>38</td>\n",
              "      <td>Large</td>\n",
              "      <td>Pork Taco</td>\n",
              "      <td>2</td>\n",
              "      <td>20.33</td>\n",
              "      <td>7.00</td>\n",
              "      <td>0.02</td>\n",
              "      <td>False</td>\n",
              "    </tr>\n",
              "    <tr>\n",
              "      <th>3</th>\n",
              "      <td>944962</td>\n",
              "      <td>Spicy Taco House</td>\n",
              "      <td>Dallas</td>\n",
              "      <td>21-09-2024 06:43</td>\n",
              "      <td>21-09-2024 07:28</td>\n",
              "      <td>45</td>\n",
              "      <td>Regular</td>\n",
              "      <td>Chicken Taco</td>\n",
              "      <td>2</td>\n",
              "      <td>3.00</td>\n",
              "      <td>5.50</td>\n",
              "      <td>1.90</td>\n",
              "      <td>True</td>\n",
              "    </tr>\n",
              "    <tr>\n",
              "      <th>4</th>\n",
              "      <td>476417</td>\n",
              "      <td>Casa del Taco</td>\n",
              "      <td>San Antonio</td>\n",
              "      <td>24-07-2024 11:01</td>\n",
              "      <td>24-07-2024 11:16</td>\n",
              "      <td>15</td>\n",
              "      <td>Large</td>\n",
              "      <td>Pork Taco</td>\n",
              "      <td>0</td>\n",
              "      <td>24.34</td>\n",
              "      <td>4.50</td>\n",
              "      <td>1.14</td>\n",
              "      <td>False</td>\n",
              "    </tr>\n",
              "  </tbody>\n",
              "</table>\n",
              "</div>\n",
              "    <div class=\"colab-df-buttons\">\n",
              "\n",
              "  <div class=\"colab-df-container\">\n",
              "    <button class=\"colab-df-convert\" onclick=\"convertToInteractive('df-62ad5b81-583a-4caf-a82c-3a82cb538377')\"\n",
              "            title=\"Convert this dataframe to an interactive table.\"\n",
              "            style=\"display:none;\">\n",
              "\n",
              "  <svg xmlns=\"http://www.w3.org/2000/svg\" height=\"24px\" viewBox=\"0 -960 960 960\">\n",
              "    <path d=\"M120-120v-720h720v720H120Zm60-500h600v-160H180v160Zm220 220h160v-160H400v160Zm0 220h160v-160H400v160ZM180-400h160v-160H180v160Zm440 0h160v-160H620v160ZM180-180h160v-160H180v160Zm440 0h160v-160H620v160Z\"/>\n",
              "  </svg>\n",
              "    </button>\n",
              "\n",
              "  <style>\n",
              "    .colab-df-container {\n",
              "      display:flex;\n",
              "      gap: 12px;\n",
              "    }\n",
              "\n",
              "    .colab-df-convert {\n",
              "      background-color: #E8F0FE;\n",
              "      border: none;\n",
              "      border-radius: 50%;\n",
              "      cursor: pointer;\n",
              "      display: none;\n",
              "      fill: #1967D2;\n",
              "      height: 32px;\n",
              "      padding: 0 0 0 0;\n",
              "      width: 32px;\n",
              "    }\n",
              "\n",
              "    .colab-df-convert:hover {\n",
              "      background-color: #E2EBFA;\n",
              "      box-shadow: 0px 1px 2px rgba(60, 64, 67, 0.3), 0px 1px 3px 1px rgba(60, 64, 67, 0.15);\n",
              "      fill: #174EA6;\n",
              "    }\n",
              "\n",
              "    .colab-df-buttons div {\n",
              "      margin-bottom: 4px;\n",
              "    }\n",
              "\n",
              "    [theme=dark] .colab-df-convert {\n",
              "      background-color: #3B4455;\n",
              "      fill: #D2E3FC;\n",
              "    }\n",
              "\n",
              "    [theme=dark] .colab-df-convert:hover {\n",
              "      background-color: #434B5C;\n",
              "      box-shadow: 0px 1px 3px 1px rgba(0, 0, 0, 0.15);\n",
              "      filter: drop-shadow(0px 1px 2px rgba(0, 0, 0, 0.3));\n",
              "      fill: #FFFFFF;\n",
              "    }\n",
              "  </style>\n",
              "\n",
              "    <script>\n",
              "      const buttonEl =\n",
              "        document.querySelector('#df-62ad5b81-583a-4caf-a82c-3a82cb538377 button.colab-df-convert');\n",
              "      buttonEl.style.display =\n",
              "        google.colab.kernel.accessAllowed ? 'block' : 'none';\n",
              "\n",
              "      async function convertToInteractive(key) {\n",
              "        const element = document.querySelector('#df-62ad5b81-583a-4caf-a82c-3a82cb538377');\n",
              "        const dataTable =\n",
              "          await google.colab.kernel.invokeFunction('convertToInteractive',\n",
              "                                                    [key], {});\n",
              "        if (!dataTable) return;\n",
              "\n",
              "        const docLinkHtml = 'Like what you see? Visit the ' +\n",
              "          '<a target=\"_blank\" href=https://colab.research.google.com/notebooks/data_table.ipynb>data table notebook</a>'\n",
              "          + ' to learn more about interactive tables.';\n",
              "        element.innerHTML = '';\n",
              "        dataTable['output_type'] = 'display_data';\n",
              "        await google.colab.output.renderOutput(dataTable, element);\n",
              "        const docLink = document.createElement('div');\n",
              "        docLink.innerHTML = docLinkHtml;\n",
              "        element.appendChild(docLink);\n",
              "      }\n",
              "    </script>\n",
              "  </div>\n",
              "\n",
              "\n",
              "    <div id=\"df-0af6cbdd-0d14-480b-933e-1934b219856b\">\n",
              "      <button class=\"colab-df-quickchart\" onclick=\"quickchart('df-0af6cbdd-0d14-480b-933e-1934b219856b')\"\n",
              "                title=\"Suggest charts\"\n",
              "                style=\"display:none;\">\n",
              "\n",
              "<svg xmlns=\"http://www.w3.org/2000/svg\" height=\"24px\"viewBox=\"0 0 24 24\"\n",
              "     width=\"24px\">\n",
              "    <g>\n",
              "        <path d=\"M19 3H5c-1.1 0-2 .9-2 2v14c0 1.1.9 2 2 2h14c1.1 0 2-.9 2-2V5c0-1.1-.9-2-2-2zM9 17H7v-7h2v7zm4 0h-2V7h2v10zm4 0h-2v-4h2v4z\"/>\n",
              "    </g>\n",
              "</svg>\n",
              "      </button>\n",
              "\n",
              "<style>\n",
              "  .colab-df-quickchart {\n",
              "      --bg-color: #E8F0FE;\n",
              "      --fill-color: #1967D2;\n",
              "      --hover-bg-color: #E2EBFA;\n",
              "      --hover-fill-color: #174EA6;\n",
              "      --disabled-fill-color: #AAA;\n",
              "      --disabled-bg-color: #DDD;\n",
              "  }\n",
              "\n",
              "  [theme=dark] .colab-df-quickchart {\n",
              "      --bg-color: #3B4455;\n",
              "      --fill-color: #D2E3FC;\n",
              "      --hover-bg-color: #434B5C;\n",
              "      --hover-fill-color: #FFFFFF;\n",
              "      --disabled-bg-color: #3B4455;\n",
              "      --disabled-fill-color: #666;\n",
              "  }\n",
              "\n",
              "  .colab-df-quickchart {\n",
              "    background-color: var(--bg-color);\n",
              "    border: none;\n",
              "    border-radius: 50%;\n",
              "    cursor: pointer;\n",
              "    display: none;\n",
              "    fill: var(--fill-color);\n",
              "    height: 32px;\n",
              "    padding: 0;\n",
              "    width: 32px;\n",
              "  }\n",
              "\n",
              "  .colab-df-quickchart:hover {\n",
              "    background-color: var(--hover-bg-color);\n",
              "    box-shadow: 0 1px 2px rgba(60, 64, 67, 0.3), 0 1px 3px 1px rgba(60, 64, 67, 0.15);\n",
              "    fill: var(--button-hover-fill-color);\n",
              "  }\n",
              "\n",
              "  .colab-df-quickchart-complete:disabled,\n",
              "  .colab-df-quickchart-complete:disabled:hover {\n",
              "    background-color: var(--disabled-bg-color);\n",
              "    fill: var(--disabled-fill-color);\n",
              "    box-shadow: none;\n",
              "  }\n",
              "\n",
              "  .colab-df-spinner {\n",
              "    border: 2px solid var(--fill-color);\n",
              "    border-color: transparent;\n",
              "    border-bottom-color: var(--fill-color);\n",
              "    animation:\n",
              "      spin 1s steps(1) infinite;\n",
              "  }\n",
              "\n",
              "  @keyframes spin {\n",
              "    0% {\n",
              "      border-color: transparent;\n",
              "      border-bottom-color: var(--fill-color);\n",
              "      border-left-color: var(--fill-color);\n",
              "    }\n",
              "    20% {\n",
              "      border-color: transparent;\n",
              "      border-left-color: var(--fill-color);\n",
              "      border-top-color: var(--fill-color);\n",
              "    }\n",
              "    30% {\n",
              "      border-color: transparent;\n",
              "      border-left-color: var(--fill-color);\n",
              "      border-top-color: var(--fill-color);\n",
              "      border-right-color: var(--fill-color);\n",
              "    }\n",
              "    40% {\n",
              "      border-color: transparent;\n",
              "      border-right-color: var(--fill-color);\n",
              "      border-top-color: var(--fill-color);\n",
              "    }\n",
              "    60% {\n",
              "      border-color: transparent;\n",
              "      border-right-color: var(--fill-color);\n",
              "    }\n",
              "    80% {\n",
              "      border-color: transparent;\n",
              "      border-right-color: var(--fill-color);\n",
              "      border-bottom-color: var(--fill-color);\n",
              "    }\n",
              "    90% {\n",
              "      border-color: transparent;\n",
              "      border-bottom-color: var(--fill-color);\n",
              "    }\n",
              "  }\n",
              "</style>\n",
              "\n",
              "      <script>\n",
              "        async function quickchart(key) {\n",
              "          const quickchartButtonEl =\n",
              "            document.querySelector('#' + key + ' button');\n",
              "          quickchartButtonEl.disabled = true;  // To prevent multiple clicks.\n",
              "          quickchartButtonEl.classList.add('colab-df-spinner');\n",
              "          try {\n",
              "            const charts = await google.colab.kernel.invokeFunction(\n",
              "                'suggestCharts', [key], {});\n",
              "          } catch (error) {\n",
              "            console.error('Error during call to suggestCharts:', error);\n",
              "          }\n",
              "          quickchartButtonEl.classList.remove('colab-df-spinner');\n",
              "          quickchartButtonEl.classList.add('colab-df-quickchart-complete');\n",
              "        }\n",
              "        (() => {\n",
              "          let quickchartButtonEl =\n",
              "            document.querySelector('#df-0af6cbdd-0d14-480b-933e-1934b219856b button');\n",
              "          quickchartButtonEl.style.display =\n",
              "            google.colab.kernel.accessAllowed ? 'block' : 'none';\n",
              "        })();\n",
              "      </script>\n",
              "    </div>\n",
              "\n",
              "    </div>\n",
              "  </div>\n"
            ],
            "application/vnd.google.colaboratory.intrinsic+json": {
              "type": "dataframe",
              "variable_name": "df",
              "summary": "{\n  \"name\": \"df\",\n  \"rows\": 1000,\n  \"fields\": [\n    {\n      \"column\": \"Order ID\",\n      \"properties\": {\n        \"dtype\": \"number\",\n        \"std\": 255948,\n        \"min\": 101139,\n        \"max\": 999138,\n        \"num_unique_values\": 1000,\n        \"samples\": [\n          687569,\n          583439,\n          243601\n        ],\n        \"semantic_type\": \"\",\n        \"description\": \"\"\n      }\n    },\n    {\n      \"column\": \"Restaurant Name\",\n      \"properties\": {\n        \"dtype\": \"category\",\n        \"num_unique_values\": 10,\n        \"samples\": [\n          \"Grande Tacos\",\n          \"Taco Haven\",\n          \"The Taco Stand\"\n        ],\n        \"semantic_type\": \"\",\n        \"description\": \"\"\n      }\n    },\n    {\n      \"column\": \"Location\",\n      \"properties\": {\n        \"dtype\": \"category\",\n        \"num_unique_values\": 10,\n        \"samples\": [\n          \"San Diego\",\n          \"San Antonio\",\n          \"Houston\"\n        ],\n        \"semantic_type\": \"\",\n        \"description\": \"\"\n      }\n    },\n    {\n      \"column\": \"Order Time\",\n      \"properties\": {\n        \"dtype\": \"string\",\n        \"num_unique_values\": 1000,\n        \"samples\": [\n          \"24-09-2024 07:14\",\n          \"06-05-2024 20:17\",\n          \"16-10-2024 17:29\"\n        ],\n        \"semantic_type\": \"\",\n        \"description\": \"\"\n      }\n    },\n    {\n      \"column\": \"Delivery Time\",\n      \"properties\": {\n        \"dtype\": \"string\",\n        \"num_unique_values\": 999,\n        \"samples\": [\n          \"25-09-2024 19:09\",\n          \"03-06-2024 07:41\",\n          \"29-03-2025 09:48\"\n        ],\n        \"semantic_type\": \"\",\n        \"description\": \"\"\n      }\n    },\n    {\n      \"column\": \"Delivery Duration (min)\",\n      \"properties\": {\n        \"dtype\": \"number\",\n        \"std\": 23,\n        \"min\": 10,\n        \"max\": 90,\n        \"num_unique_values\": 81,\n        \"samples\": [\n          21,\n          41,\n          16\n        ],\n        \"semantic_type\": \"\",\n        \"description\": \"\"\n      }\n    },\n    {\n      \"column\": \"Taco Size\",\n      \"properties\": {\n        \"dtype\": \"category\",\n        \"num_unique_values\": 2,\n        \"samples\": [\n          \"Large\",\n          \"Regular\"\n        ],\n        \"semantic_type\": \"\",\n        \"description\": \"\"\n      }\n    },\n    {\n      \"column\": \"Taco Type\",\n      \"properties\": {\n        \"dtype\": \"category\",\n        \"num_unique_values\": 5,\n        \"samples\": [\n          \"Beef Taco\",\n          \"Fish Taco\"\n        ],\n        \"semantic_type\": \"\",\n        \"description\": \"\"\n      }\n    },\n    {\n      \"column\": \"Toppings Count\",\n      \"properties\": {\n        \"dtype\": \"number\",\n        \"std\": 1,\n        \"min\": 0,\n        \"max\": 5,\n        \"num_unique_values\": 6,\n        \"samples\": [\n          5,\n          1\n        ],\n        \"semantic_type\": \"\",\n        \"description\": \"\"\n      }\n    },\n    {\n      \"column\": \"Distance (km)\",\n      \"properties\": {\n        \"dtype\": \"number\",\n        \"std\": 7.142267615420912,\n        \"min\": 0.51,\n        \"max\": 24.98,\n        \"num_unique_values\": 811,\n        \"samples\": [\n          13.47,\n          20.16\n        ],\n        \"semantic_type\": \"\",\n        \"description\": \"\"\n      }\n    },\n    {\n      \"column\": \"Price ($)\",\n      \"properties\": {\n        \"dtype\": \"number\",\n        \"std\": 2.310136612555343,\n        \"min\": 3.0,\n        \"max\": 10.75,\n        \"num_unique_values\": 12,\n        \"samples\": [\n          8.25,\n          9.5\n        ],\n        \"semantic_type\": \"\",\n        \"description\": \"\"\n      }\n    },\n    {\n      \"column\": \"Tip ($)\",\n      \"properties\": {\n        \"dtype\": \"number\",\n        \"std\": 1.132034836376855,\n        \"min\": 0.01,\n        \"max\": 4.98,\n        \"num_unique_values\": 376,\n        \"samples\": [\n          3.96,\n          1.55\n        ],\n        \"semantic_type\": \"\",\n        \"description\": \"\"\n      }\n    },\n    {\n      \"column\": \"Weekend Order\",\n      \"properties\": {\n        \"dtype\": \"boolean\",\n        \"num_unique_values\": 2,\n        \"samples\": [\n          true,\n          false\n        ],\n        \"semantic_type\": \"\",\n        \"description\": \"\"\n      }\n    }\n  ]\n}"
            }
          },
          "metadata": {},
          "execution_count": 37
        }
      ]
    },
    {
      "cell_type": "markdown",
      "source": [
        "## Informacion del database"
      ],
      "metadata": {
        "id": "XcZ48lEA9T-k"
      }
    },
    {
      "cell_type": "code",
      "source": [
        "df.info()\n",
        "df.describe()"
      ],
      "metadata": {
        "colab": {
          "base_uri": "https://localhost:8080/",
          "height": 0
        },
        "id": "4tBQcSMy8XGm",
        "outputId": "932a4839-b245-47b2-94ea-4c0aa40ec420"
      },
      "execution_count": 38,
      "outputs": [
        {
          "output_type": "stream",
          "name": "stdout",
          "text": [
            "<class 'pandas.core.frame.DataFrame'>\n",
            "RangeIndex: 1000 entries, 0 to 999\n",
            "Data columns (total 13 columns):\n",
            " #   Column                   Non-Null Count  Dtype  \n",
            "---  ------                   --------------  -----  \n",
            " 0   Order ID                 1000 non-null   int64  \n",
            " 1   Restaurant Name          1000 non-null   object \n",
            " 2   Location                 1000 non-null   object \n",
            " 3   Order Time               1000 non-null   object \n",
            " 4   Delivery Time            1000 non-null   object \n",
            " 5   Delivery Duration (min)  1000 non-null   int64  \n",
            " 6   Taco Size                1000 non-null   object \n",
            " 7   Taco Type                1000 non-null   object \n",
            " 8   Toppings Count           1000 non-null   int64  \n",
            " 9   Distance (km)            1000 non-null   float64\n",
            " 10  Price ($)                1000 non-null   float64\n",
            " 11  Tip ($)                  1000 non-null   float64\n",
            " 12  Weekend Order            1000 non-null   bool   \n",
            "dtypes: bool(1), float64(3), int64(3), object(6)\n",
            "memory usage: 94.9+ KB\n"
          ]
        },
        {
          "output_type": "execute_result",
          "data": {
            "text/plain": [
              "            Order ID  Delivery Duration (min)  Toppings Count  Distance (km)  \\\n",
              "count    1000.000000               1000.00000     1000.000000    1000.000000   \n",
              "mean   552504.865000                 50.93000        2.529000      13.073420   \n",
              "std    255948.779709                 23.22754        1.717005       7.142268   \n",
              "min    101139.000000                 10.00000        0.000000       0.510000   \n",
              "25%    331796.750000                 30.00000        1.000000       6.972500   \n",
              "50%    559740.000000                 53.00000        3.000000      13.200000   \n",
              "75%    771781.750000                 71.00000        4.000000      19.242500   \n",
              "max    999138.000000                 90.00000        5.000000      24.980000   \n",
              "\n",
              "         Price ($)      Tip ($)  \n",
              "count  1000.000000  1000.000000  \n",
              "mean      6.908250     1.806110  \n",
              "std       2.310137     1.132035  \n",
              "min       3.000000     0.010000  \n",
              "25%       4.500000     0.907500  \n",
              "50%       6.750000     1.760000  \n",
              "75%       9.250000     2.520000  \n",
              "max      10.750000     4.980000  "
            ],
            "text/html": [
              "\n",
              "  <div id=\"df-0e7a7f0b-1d92-4108-8f23-1a287cd26ef1\" class=\"colab-df-container\">\n",
              "    <div>\n",
              "<style scoped>\n",
              "    .dataframe tbody tr th:only-of-type {\n",
              "        vertical-align: middle;\n",
              "    }\n",
              "\n",
              "    .dataframe tbody tr th {\n",
              "        vertical-align: top;\n",
              "    }\n",
              "\n",
              "    .dataframe thead th {\n",
              "        text-align: right;\n",
              "    }\n",
              "</style>\n",
              "<table border=\"1\" class=\"dataframe\">\n",
              "  <thead>\n",
              "    <tr style=\"text-align: right;\">\n",
              "      <th></th>\n",
              "      <th>Order ID</th>\n",
              "      <th>Delivery Duration (min)</th>\n",
              "      <th>Toppings Count</th>\n",
              "      <th>Distance (km)</th>\n",
              "      <th>Price ($)</th>\n",
              "      <th>Tip ($)</th>\n",
              "    </tr>\n",
              "  </thead>\n",
              "  <tbody>\n",
              "    <tr>\n",
              "      <th>count</th>\n",
              "      <td>1000.000000</td>\n",
              "      <td>1000.00000</td>\n",
              "      <td>1000.000000</td>\n",
              "      <td>1000.000000</td>\n",
              "      <td>1000.000000</td>\n",
              "      <td>1000.000000</td>\n",
              "    </tr>\n",
              "    <tr>\n",
              "      <th>mean</th>\n",
              "      <td>552504.865000</td>\n",
              "      <td>50.93000</td>\n",
              "      <td>2.529000</td>\n",
              "      <td>13.073420</td>\n",
              "      <td>6.908250</td>\n",
              "      <td>1.806110</td>\n",
              "    </tr>\n",
              "    <tr>\n",
              "      <th>std</th>\n",
              "      <td>255948.779709</td>\n",
              "      <td>23.22754</td>\n",
              "      <td>1.717005</td>\n",
              "      <td>7.142268</td>\n",
              "      <td>2.310137</td>\n",
              "      <td>1.132035</td>\n",
              "    </tr>\n",
              "    <tr>\n",
              "      <th>min</th>\n",
              "      <td>101139.000000</td>\n",
              "      <td>10.00000</td>\n",
              "      <td>0.000000</td>\n",
              "      <td>0.510000</td>\n",
              "      <td>3.000000</td>\n",
              "      <td>0.010000</td>\n",
              "    </tr>\n",
              "    <tr>\n",
              "      <th>25%</th>\n",
              "      <td>331796.750000</td>\n",
              "      <td>30.00000</td>\n",
              "      <td>1.000000</td>\n",
              "      <td>6.972500</td>\n",
              "      <td>4.500000</td>\n",
              "      <td>0.907500</td>\n",
              "    </tr>\n",
              "    <tr>\n",
              "      <th>50%</th>\n",
              "      <td>559740.000000</td>\n",
              "      <td>53.00000</td>\n",
              "      <td>3.000000</td>\n",
              "      <td>13.200000</td>\n",
              "      <td>6.750000</td>\n",
              "      <td>1.760000</td>\n",
              "    </tr>\n",
              "    <tr>\n",
              "      <th>75%</th>\n",
              "      <td>771781.750000</td>\n",
              "      <td>71.00000</td>\n",
              "      <td>4.000000</td>\n",
              "      <td>19.242500</td>\n",
              "      <td>9.250000</td>\n",
              "      <td>2.520000</td>\n",
              "    </tr>\n",
              "    <tr>\n",
              "      <th>max</th>\n",
              "      <td>999138.000000</td>\n",
              "      <td>90.00000</td>\n",
              "      <td>5.000000</td>\n",
              "      <td>24.980000</td>\n",
              "      <td>10.750000</td>\n",
              "      <td>4.980000</td>\n",
              "    </tr>\n",
              "  </tbody>\n",
              "</table>\n",
              "</div>\n",
              "    <div class=\"colab-df-buttons\">\n",
              "\n",
              "  <div class=\"colab-df-container\">\n",
              "    <button class=\"colab-df-convert\" onclick=\"convertToInteractive('df-0e7a7f0b-1d92-4108-8f23-1a287cd26ef1')\"\n",
              "            title=\"Convert this dataframe to an interactive table.\"\n",
              "            style=\"display:none;\">\n",
              "\n",
              "  <svg xmlns=\"http://www.w3.org/2000/svg\" height=\"24px\" viewBox=\"0 -960 960 960\">\n",
              "    <path d=\"M120-120v-720h720v720H120Zm60-500h600v-160H180v160Zm220 220h160v-160H400v160Zm0 220h160v-160H400v160ZM180-400h160v-160H180v160Zm440 0h160v-160H620v160ZM180-180h160v-160H180v160Zm440 0h160v-160H620v160Z\"/>\n",
              "  </svg>\n",
              "    </button>\n",
              "\n",
              "  <style>\n",
              "    .colab-df-container {\n",
              "      display:flex;\n",
              "      gap: 12px;\n",
              "    }\n",
              "\n",
              "    .colab-df-convert {\n",
              "      background-color: #E8F0FE;\n",
              "      border: none;\n",
              "      border-radius: 50%;\n",
              "      cursor: pointer;\n",
              "      display: none;\n",
              "      fill: #1967D2;\n",
              "      height: 32px;\n",
              "      padding: 0 0 0 0;\n",
              "      width: 32px;\n",
              "    }\n",
              "\n",
              "    .colab-df-convert:hover {\n",
              "      background-color: #E2EBFA;\n",
              "      box-shadow: 0px 1px 2px rgba(60, 64, 67, 0.3), 0px 1px 3px 1px rgba(60, 64, 67, 0.15);\n",
              "      fill: #174EA6;\n",
              "    }\n",
              "\n",
              "    .colab-df-buttons div {\n",
              "      margin-bottom: 4px;\n",
              "    }\n",
              "\n",
              "    [theme=dark] .colab-df-convert {\n",
              "      background-color: #3B4455;\n",
              "      fill: #D2E3FC;\n",
              "    }\n",
              "\n",
              "    [theme=dark] .colab-df-convert:hover {\n",
              "      background-color: #434B5C;\n",
              "      box-shadow: 0px 1px 3px 1px rgba(0, 0, 0, 0.15);\n",
              "      filter: drop-shadow(0px 1px 2px rgba(0, 0, 0, 0.3));\n",
              "      fill: #FFFFFF;\n",
              "    }\n",
              "  </style>\n",
              "\n",
              "    <script>\n",
              "      const buttonEl =\n",
              "        document.querySelector('#df-0e7a7f0b-1d92-4108-8f23-1a287cd26ef1 button.colab-df-convert');\n",
              "      buttonEl.style.display =\n",
              "        google.colab.kernel.accessAllowed ? 'block' : 'none';\n",
              "\n",
              "      async function convertToInteractive(key) {\n",
              "        const element = document.querySelector('#df-0e7a7f0b-1d92-4108-8f23-1a287cd26ef1');\n",
              "        const dataTable =\n",
              "          await google.colab.kernel.invokeFunction('convertToInteractive',\n",
              "                                                    [key], {});\n",
              "        if (!dataTable) return;\n",
              "\n",
              "        const docLinkHtml = 'Like what you see? Visit the ' +\n",
              "          '<a target=\"_blank\" href=https://colab.research.google.com/notebooks/data_table.ipynb>data table notebook</a>'\n",
              "          + ' to learn more about interactive tables.';\n",
              "        element.innerHTML = '';\n",
              "        dataTable['output_type'] = 'display_data';\n",
              "        await google.colab.output.renderOutput(dataTable, element);\n",
              "        const docLink = document.createElement('div');\n",
              "        docLink.innerHTML = docLinkHtml;\n",
              "        element.appendChild(docLink);\n",
              "      }\n",
              "    </script>\n",
              "  </div>\n",
              "\n",
              "\n",
              "    <div id=\"df-3a92c0f4-a4de-45b6-8003-995039981cfd\">\n",
              "      <button class=\"colab-df-quickchart\" onclick=\"quickchart('df-3a92c0f4-a4de-45b6-8003-995039981cfd')\"\n",
              "                title=\"Suggest charts\"\n",
              "                style=\"display:none;\">\n",
              "\n",
              "<svg xmlns=\"http://www.w3.org/2000/svg\" height=\"24px\"viewBox=\"0 0 24 24\"\n",
              "     width=\"24px\">\n",
              "    <g>\n",
              "        <path d=\"M19 3H5c-1.1 0-2 .9-2 2v14c0 1.1.9 2 2 2h14c1.1 0 2-.9 2-2V5c0-1.1-.9-2-2-2zM9 17H7v-7h2v7zm4 0h-2V7h2v10zm4 0h-2v-4h2v4z\"/>\n",
              "    </g>\n",
              "</svg>\n",
              "      </button>\n",
              "\n",
              "<style>\n",
              "  .colab-df-quickchart {\n",
              "      --bg-color: #E8F0FE;\n",
              "      --fill-color: #1967D2;\n",
              "      --hover-bg-color: #E2EBFA;\n",
              "      --hover-fill-color: #174EA6;\n",
              "      --disabled-fill-color: #AAA;\n",
              "      --disabled-bg-color: #DDD;\n",
              "  }\n",
              "\n",
              "  [theme=dark] .colab-df-quickchart {\n",
              "      --bg-color: #3B4455;\n",
              "      --fill-color: #D2E3FC;\n",
              "      --hover-bg-color: #434B5C;\n",
              "      --hover-fill-color: #FFFFFF;\n",
              "      --disabled-bg-color: #3B4455;\n",
              "      --disabled-fill-color: #666;\n",
              "  }\n",
              "\n",
              "  .colab-df-quickchart {\n",
              "    background-color: var(--bg-color);\n",
              "    border: none;\n",
              "    border-radius: 50%;\n",
              "    cursor: pointer;\n",
              "    display: none;\n",
              "    fill: var(--fill-color);\n",
              "    height: 32px;\n",
              "    padding: 0;\n",
              "    width: 32px;\n",
              "  }\n",
              "\n",
              "  .colab-df-quickchart:hover {\n",
              "    background-color: var(--hover-bg-color);\n",
              "    box-shadow: 0 1px 2px rgba(60, 64, 67, 0.3), 0 1px 3px 1px rgba(60, 64, 67, 0.15);\n",
              "    fill: var(--button-hover-fill-color);\n",
              "  }\n",
              "\n",
              "  .colab-df-quickchart-complete:disabled,\n",
              "  .colab-df-quickchart-complete:disabled:hover {\n",
              "    background-color: var(--disabled-bg-color);\n",
              "    fill: var(--disabled-fill-color);\n",
              "    box-shadow: none;\n",
              "  }\n",
              "\n",
              "  .colab-df-spinner {\n",
              "    border: 2px solid var(--fill-color);\n",
              "    border-color: transparent;\n",
              "    border-bottom-color: var(--fill-color);\n",
              "    animation:\n",
              "      spin 1s steps(1) infinite;\n",
              "  }\n",
              "\n",
              "  @keyframes spin {\n",
              "    0% {\n",
              "      border-color: transparent;\n",
              "      border-bottom-color: var(--fill-color);\n",
              "      border-left-color: var(--fill-color);\n",
              "    }\n",
              "    20% {\n",
              "      border-color: transparent;\n",
              "      border-left-color: var(--fill-color);\n",
              "      border-top-color: var(--fill-color);\n",
              "    }\n",
              "    30% {\n",
              "      border-color: transparent;\n",
              "      border-left-color: var(--fill-color);\n",
              "      border-top-color: var(--fill-color);\n",
              "      border-right-color: var(--fill-color);\n",
              "    }\n",
              "    40% {\n",
              "      border-color: transparent;\n",
              "      border-right-color: var(--fill-color);\n",
              "      border-top-color: var(--fill-color);\n",
              "    }\n",
              "    60% {\n",
              "      border-color: transparent;\n",
              "      border-right-color: var(--fill-color);\n",
              "    }\n",
              "    80% {\n",
              "      border-color: transparent;\n",
              "      border-right-color: var(--fill-color);\n",
              "      border-bottom-color: var(--fill-color);\n",
              "    }\n",
              "    90% {\n",
              "      border-color: transparent;\n",
              "      border-bottom-color: var(--fill-color);\n",
              "    }\n",
              "  }\n",
              "</style>\n",
              "\n",
              "      <script>\n",
              "        async function quickchart(key) {\n",
              "          const quickchartButtonEl =\n",
              "            document.querySelector('#' + key + ' button');\n",
              "          quickchartButtonEl.disabled = true;  // To prevent multiple clicks.\n",
              "          quickchartButtonEl.classList.add('colab-df-spinner');\n",
              "          try {\n",
              "            const charts = await google.colab.kernel.invokeFunction(\n",
              "                'suggestCharts', [key], {});\n",
              "          } catch (error) {\n",
              "            console.error('Error during call to suggestCharts:', error);\n",
              "          }\n",
              "          quickchartButtonEl.classList.remove('colab-df-spinner');\n",
              "          quickchartButtonEl.classList.add('colab-df-quickchart-complete');\n",
              "        }\n",
              "        (() => {\n",
              "          let quickchartButtonEl =\n",
              "            document.querySelector('#df-3a92c0f4-a4de-45b6-8003-995039981cfd button');\n",
              "          quickchartButtonEl.style.display =\n",
              "            google.colab.kernel.accessAllowed ? 'block' : 'none';\n",
              "        })();\n",
              "      </script>\n",
              "    </div>\n",
              "\n",
              "    </div>\n",
              "  </div>\n"
            ],
            "application/vnd.google.colaboratory.intrinsic+json": {
              "type": "dataframe",
              "summary": "{\n  \"name\": \"df\",\n  \"rows\": 8,\n  \"fields\": [\n    {\n      \"column\": \"Order ID\",\n      \"properties\": {\n        \"dtype\": \"number\",\n        \"std\": 338587.03054616094,\n        \"min\": 1000.0,\n        \"max\": 999138.0,\n        \"num_unique_values\": 8,\n        \"samples\": [\n          552504.865,\n          559740.0,\n          1000.0\n        ],\n        \"semantic_type\": \"\",\n        \"description\": \"\"\n      }\n    },\n    {\n      \"column\": \"Delivery Duration (min)\",\n      \"properties\": {\n        \"dtype\": \"number\",\n        \"std\": 337.9735993718356,\n        \"min\": 10.0,\n        \"max\": 1000.0,\n        \"num_unique_values\": 8,\n        \"samples\": [\n          50.93,\n          53.0,\n          1000.0\n        ],\n        \"semantic_type\": \"\",\n        \"description\": \"\"\n      }\n    },\n    {\n      \"column\": \"Toppings Count\",\n      \"properties\": {\n        \"dtype\": \"number\",\n        \"std\": 352.6859518735476,\n        \"min\": 0.0,\n        \"max\": 1000.0,\n        \"num_unique_values\": 8,\n        \"samples\": [\n          2.529,\n          3.0,\n          1000.0\n        ],\n        \"semantic_type\": \"\",\n        \"description\": \"\"\n      }\n    },\n    {\n      \"column\": \"Distance (km)\",\n      \"properties\": {\n        \"dtype\": \"number\",\n        \"std\": 349.33681107887764,\n        \"min\": 0.51,\n        \"max\": 1000.0,\n        \"num_unique_values\": 8,\n        \"samples\": [\n          13.07342,\n          13.2,\n          1000.0\n        ],\n        \"semantic_type\": \"\",\n        \"description\": \"\"\n      }\n    },\n    {\n      \"column\": \"Price ($)\",\n      \"properties\": {\n        \"dtype\": \"number\",\n        \"std\": 351.36991372885376,\n        \"min\": 2.310136612555343,\n        \"max\": 1000.0,\n        \"num_unique_values\": 8,\n        \"samples\": [\n          6.90825,\n          6.75,\n          1000.0\n        ],\n        \"semantic_type\": \"\",\n        \"description\": \"\"\n      }\n    },\n    {\n      \"column\": \"Tip ($)\",\n      \"properties\": {\n        \"dtype\": \"number\",\n        \"std\": 352.8939949830998,\n        \"min\": 0.01,\n        \"max\": 1000.0,\n        \"num_unique_values\": 8,\n        \"samples\": [\n          1.80611,\n          1.76,\n          1000.0\n        ],\n        \"semantic_type\": \"\",\n        \"description\": \"\"\n      }\n    }\n  ]\n}"
            }
          },
          "metadata": {},
          "execution_count": 38
        }
      ]
    },
    {
      "cell_type": "markdown",
      "source": [
        "# Transformaciones Realizadas ⛏"
      ],
      "metadata": {
        "id": "FH0jgxtgRIp6"
      }
    },
    {
      "cell_type": "markdown",
      "source": [
        "### Agregado columna Cantidad"
      ],
      "metadata": {
        "id": "VJSxWSHbP5Vv"
      }
    },
    {
      "cell_type": "code",
      "source": [
        "df['Cantidad'] = 1"
      ],
      "metadata": {
        "id": "zP62bbKRP0uu"
      },
      "execution_count": 39,
      "outputs": []
    },
    {
      "cell_type": "markdown",
      "source": [
        "### Transformacion del campo \"Order Time\" al formato Fecha"
      ],
      "metadata": {
        "id": "mvFsROuzOLLl"
      }
    },
    {
      "cell_type": "code",
      "source": [
        "df['Order Time'] = pd.to_datetime(df['Order Time'].astype(str), format=\"%d-%m-%Y %H:%M\", errors='coerce')"
      ],
      "metadata": {
        "id": "15l92WrTOCxS"
      },
      "execution_count": 40,
      "outputs": []
    },
    {
      "cell_type": "markdown",
      "source": [
        "### Separacion de fecha y hora y agregado de dia/mes"
      ],
      "metadata": {
        "id": "oA-evmLh5eRW"
      }
    },
    {
      "cell_type": "code",
      "source": [
        "df[\"Fecha\"] = df[\"Order Time\"].dt.date\n",
        "df[\"Hora\"] = df[\"Order Time\"].dt.hour\n",
        "df[\"Mes\"] = df[\"Order Time\"].dt.month\n",
        "df[\"Día de Semana\"] = df[\"Order Time\"].dt.day_name()"
      ],
      "metadata": {
        "id": "Apkip5N3QcPh"
      },
      "execution_count": 41,
      "outputs": []
    },
    {
      "cell_type": "markdown",
      "source": [
        "### Agregado columna \"Franja Horaria\""
      ],
      "metadata": {
        "id": "1cyygg-f-ibw"
      }
    },
    {
      "cell_type": "code",
      "source": [
        "def clasificar_hora(hora):\n",
        "  if 6<= hora <12:\n",
        "    return 'Mañana'\n",
        "  elif 12 <= hora < 18:\n",
        "    return 'Tarde'\n",
        "  else:\n",
        "    return 'Noche'\n",
        "\n",
        "df[\"Franja Horaria\"] = df[\"Hora\"].apply(clasificar_hora)"
      ],
      "metadata": {
        "id": "JhqYwpn35pEp"
      },
      "execution_count": 42,
      "outputs": []
    },
    {
      "cell_type": "markdown",
      "source": [
        "### Agregado columna \"Total\" sumando el precio y la propina"
      ],
      "metadata": {
        "id": "mH_MPX51VsWW"
      }
    },
    {
      "cell_type": "code",
      "source": [
        "df[\"Total\"] = df[\"Price ($)\"] + df[\"Tip ($)\"]"
      ],
      "metadata": {
        "id": "zmIM2zEjHbVx"
      },
      "execution_count": 51,
      "outputs": []
    },
    {
      "cell_type": "markdown",
      "source": [
        "### Categoria de Venta Alta o Baja segunda la Media"
      ],
      "metadata": {
        "id": "v7qY_7z9WLQE"
      }
    },
    {
      "cell_type": "code",
      "source": [
        "umbral = df[\"Total\"].mean()\n",
        "df[\"Venta Alta\"] = np.where(df[\"Total\"] >= umbral, \"Sí\", \"No\")"
      ],
      "metadata": {
        "id": "NveWvOG-WD8H"
      },
      "execution_count": 54,
      "outputs": []
    },
    {
      "cell_type": "markdown",
      "source": [
        "### Categorizacion de ventas por Dia de semana o fin de semana"
      ],
      "metadata": {
        "id": "Jm3aoCikZAlN"
      }
    },
    {
      "cell_type": "code",
      "source": [
        "df[\"Es Fin de Semana\"] = df[\"Día de Semana\"].isin([\"Saturday\", \"Sunday\"])"
      ],
      "metadata": {
        "id": "xt-g3TnKWhG1"
      },
      "execution_count": 57,
      "outputs": []
    },
    {
      "cell_type": "markdown",
      "source": [
        "# Graficos y Visualizaciones 🌮"
      ],
      "metadata": {
        "id": "ZXcbF88n9_D1"
      }
    },
    {
      "cell_type": "markdown",
      "source": [
        "### Grafico de barras x Tipo de Taco"
      ],
      "metadata": {
        "id": "s5xjDsdSGbbC"
      }
    },
    {
      "cell_type": "code",
      "source": [
        "plt.figure(figsize=(8, 6))\n",
        "\n",
        "order = df['Taco Type'].value_counts().index\n",
        "\n",
        "sns.set_style(\"whitegrid\")\n",
        "ax = sns.countplot(\n",
        "    x='Taco Type',\n",
        "    data=df,\n",
        "    order=order,\n",
        "    hue='Taco Type',\n",
        "    palette=\"pastel\",\n",
        "    edgecolor='black',\n",
        "    legend=False\n",
        ")\n",
        "plt.title('Cantidad Vendida de Cada Tipo de Taco', fontsize=14)\n",
        "plt.xlabel('Tipo de Taco', fontsize=12)\n",
        "plt.ylabel('Cantidad de Ventas', fontsize=12)\n",
        "\n",
        "for p in ax.patches:\n",
        "    height = p.get_height()\n",
        "    ax.annotate(f'{height}', (p.get_x() + p.get_width() / 2, height),\n",
        "                ha='center', va='bottom', fontsize=12)\n",
        "plt.tight_layout()\n",
        "plt.show()\n"
      ],
      "metadata": {
        "colab": {
          "base_uri": "https://localhost:8080/",
          "height": 0
        },
        "id": "9FfwhPlm9xaX",
        "outputId": "1486aadc-a031-42e3-ceea-90f30eed0ac2"
      },
      "execution_count": 44,
      "outputs": [
        {
          "output_type": "display_data",
          "data": {
            "text/plain": [
              "<Figure size 800x600 with 1 Axes>"
            ],
            "image/png": "[encoded data removed]"
          },
          "metadata": {}
        }
      ]
    },
    {
      "cell_type": "markdown",
      "source": [
        "## Top 10 Ventas x Estado"
      ],
      "metadata": {
        "id": "OJoDJ8GbIgdS"
      }
    },
    {
      "cell_type": "code",
      "source": [
        "ax = df.groupby(\"Location\")[\"Order ID\"].count().sort_values(ascending=False).head(10).plot(\n",
        "    kind='barh', color='coral'\n",
        ")\n",
        "\n",
        "ax.set_title(\"Top 10 Estados por Ventas\", fontsize=16, fontweight='bold', color='navy')\n",
        "ax.set_xlabel(\"Ventas ($)\", fontsize=14)\n",
        "ax.set_ylabel(\"Location\", fontsize=14)\n",
        "\n",
        "ax.invert_yaxis()\n",
        "\n",
        "for i, v in enumerate(ax.containers[0]):\n",
        "    ax.text(v.get_width() + 0.5, v.get_y() + v.get_height()/2,\n",
        "            str(int(v.get_width())), va='center', fontsize=12, color='black')\n",
        "\n",
        "plt.style.use('ggplot')\n",
        "\n",
        "plt.tight_layout()\n",
        "plt.show()\n",
        "\n"
      ],
      "metadata": {
        "colab": {
          "base_uri": "https://localhost:8080/",
          "height": 0
        },
        "id": "JvL0lQrzE7ca",
        "outputId": "f76e60d1-4e0c-478d-8988-8f03db94e2e9"
      },
      "execution_count": 45,
      "outputs": [
        {
          "output_type": "display_data",
          "data": {
            "text/plain": [
              "<Figure size 640x480 with 1 Axes>"
            ],
            "image/png": "[encoded data removed]"
          },
          "metadata": {}
        }
      ]
    }
  ]
}